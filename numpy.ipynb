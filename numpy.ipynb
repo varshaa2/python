{
  "nbformat": 4,
  "nbformat_minor": 0,
  "metadata": {
    "colab": {
      "provenance": []
    },
    "kernelspec": {
      "name": "python3",
      "display_name": "Python 3"
    },
    "language_info": {
      "name": "python"
    }
  },
  "cells": [
    {
      "cell_type": "code",
      "execution_count": null,
      "metadata": {
        "colab": {
          "base_uri": "https://localhost:8080/"
        },
        "id": "TDfXvUVDVyUd",
        "outputId": "cf932fb7-73f4-4ed8-9d33-f28039569688"
      },
      "outputs": [
        {
          "output_type": "stream",
          "name": "stdout",
          "text": [
            "[False  True False]\n"
          ]
        }
      ],
      "source": [
        "import numpy as np\n",
        "a = np.array([1,3,0],float)\n",
        "print(a>2)"
      ]
    },
    {
      "cell_type": "code",
      "source": [
        "b = np.array((2,3,4))\n",
        "print(type(b))"
      ],
      "metadata": {
        "colab": {
          "base_uri": "https://localhost:8080/"
        },
        "id": "H4IRckh2a8ha",
        "outputId": "6e99c846-1ebc-4ce4-bf6a-e40fe28a577d"
      },
      "execution_count": null,
      "outputs": [
        {
          "output_type": "stream",
          "name": "stdout",
          "text": [
            "<class 'numpy.ndarray'>\n"
          ]
        }
      ]
    },
    {
      "cell_type": "code",
      "source": [
        "a = np.array([[1,3,5],[2,4,6],[9,9,9]])\n",
        "print(a)"
      ],
      "metadata": {
        "colab": {
          "base_uri": "https://localhost:8080/"
        },
        "id": "BDZexeXJcoEU",
        "outputId": "d92c4937-f96d-4c91-e4f3-11f8a1c7c5b8"
      },
      "execution_count": null,
      "outputs": [
        {
          "output_type": "stream",
          "name": "stdout",
          "text": [
            "[[1 3 5]\n",
            " [2 4 6]\n",
            " [9 9 9]]\n"
          ]
        }
      ]
    },
    {
      "cell_type": "code",
      "source": [
        "arr = np.zeros((3,3),int)\n",
        "print(arr)"
      ],
      "metadata": {
        "colab": {
          "base_uri": "https://localhost:8080/"
        },
        "id": "DiDXVYB8dnmk",
        "outputId": "735472f5-b4af-484c-fd40-c982e5d8a3bd"
      },
      "execution_count": null,
      "outputs": [
        {
          "output_type": "stream",
          "name": "stdout",
          "text": [
            "[[0 0 0]\n",
            " [0 0 0]\n",
            " [0 0 0]]\n"
          ]
        }
      ]
    },
    {
      "cell_type": "code",
      "source": [
        "arr = np.ones((3,3),int)\n",
        "print(arr)"
      ],
      "metadata": {
        "colab": {
          "base_uri": "https://localhost:8080/"
        },
        "id": "dknLor82fBtV",
        "outputId": "383ec8c8-c3cf-4ded-9da4-ab59d5b48386"
      },
      "execution_count": null,
      "outputs": [
        {
          "output_type": "stream",
          "name": "stdout",
          "text": [
            "[[1 1 1]\n",
            " [1 1 1]\n",
            " [1 1 1]]\n"
          ]
        }
      ]
    },
    {
      "cell_type": "code",
      "source": [
        "a = np.arange(10,30,5)\n",
        "print(a)"
      ],
      "metadata": {
        "colab": {
          "base_uri": "https://localhost:8080/"
        },
        "id": "2LCaKEFmfkID",
        "outputId": "83ecd8b0-b0d6-4c03-c288-8cc3e083d584"
      },
      "execution_count": null,
      "outputs": [
        {
          "output_type": "stream",
          "name": "stdout",
          "text": [
            "[10 15 20 25]\n"
          ]
        }
      ]
    },
    {
      "cell_type": "code",
      "source": [
        "arr = np.linspace(0,2,9)\n",
        "print(arr)"
      ],
      "metadata": {
        "colab": {
          "base_uri": "https://localhost:8080/"
        },
        "id": "M-Qbtdr1gi7L",
        "outputId": "bf00c1d0-1035-4313-a16c-8eabd2b7e47e"
      },
      "execution_count": null,
      "outputs": [
        {
          "output_type": "stream",
          "name": "stdout",
          "text": [
            "[0.   0.25 0.5  0.75 1.   1.25 1.5  1.75 2.  ]\n"
          ]
        }
      ]
    },
    {
      "cell_type": "code",
      "source": [
        "arr  =  np.identity(3,int)\n",
        "print(arr)"
      ],
      "metadata": {
        "colab": {
          "base_uri": "https://localhost:8080/"
        },
        "id": "YZHPE6PRg_gK",
        "outputId": "788181ed-42ff-4faa-bd3f-1123c771ac01"
      },
      "execution_count": null,
      "outputs": [
        {
          "output_type": "stream",
          "name": "stdout",
          "text": [
            "[[1 0 0]\n",
            " [0 1 0]\n",
            " [0 0 1]]\n"
          ]
        }
      ]
    },
    {
      "cell_type": "code",
      "source": [
        "help(np.linspace)"
      ],
      "metadata": {
        "colab": {
          "base_uri": "https://localhost:8080/"
        },
        "id": "GDhi2aA4hXWM",
        "outputId": "af8c7985-2226-47d8-925c-a4f9fbd1de80"
      },
      "execution_count": null,
      "outputs": [
        {
          "output_type": "stream",
          "name": "stdout",
          "text": [
            "Help on function linspace in module numpy:\n",
            "\n",
            "linspace(start, stop, num=50, endpoint=True, retstep=False, dtype=None, axis=0)\n",
            "    Return evenly spaced numbers over a specified interval.\n",
            "    \n",
            "    Returns `num` evenly spaced samples, calculated over the\n",
            "    interval [`start`, `stop`].\n",
            "    \n",
            "    The endpoint of the interval can optionally be excluded.\n",
            "    \n",
            "    .. versionchanged:: 1.16.0\n",
            "        Non-scalar `start` and `stop` are now supported.\n",
            "    \n",
            "    .. versionchanged:: 1.20.0\n",
            "        Values are rounded towards ``-inf`` instead of ``0`` when an\n",
            "        integer ``dtype`` is specified. The old behavior can\n",
            "        still be obtained with ``np.linspace(start, stop, num).astype(int)``\n",
            "    \n",
            "    Parameters\n",
            "    ----------\n",
            "    start : array_like\n",
            "        The starting value of the sequence.\n",
            "    stop : array_like\n",
            "        The end value of the sequence, unless `endpoint` is set to False.\n",
            "        In that case, the sequence consists of all but the last of ``num + 1``\n",
            "        evenly spaced samples, so that `stop` is excluded.  Note that the step\n",
            "        size changes when `endpoint` is False.\n",
            "    num : int, optional\n",
            "        Number of samples to generate. Default is 50. Must be non-negative.\n",
            "    endpoint : bool, optional\n",
            "        If True, `stop` is the last sample. Otherwise, it is not included.\n",
            "        Default is True.\n",
            "    retstep : bool, optional\n",
            "        If True, return (`samples`, `step`), where `step` is the spacing\n",
            "        between samples.\n",
            "    dtype : dtype, optional\n",
            "        The type of the output array.  If `dtype` is not given, the data type\n",
            "        is inferred from `start` and `stop`. The inferred dtype will never be\n",
            "        an integer; `float` is chosen even if the arguments would produce an\n",
            "        array of integers.\n",
            "    \n",
            "        .. versionadded:: 1.9.0\n",
            "    \n",
            "    axis : int, optional\n",
            "        The axis in the result to store the samples.  Relevant only if start\n",
            "        or stop are array-like.  By default (0), the samples will be along a\n",
            "        new axis inserted at the beginning. Use -1 to get an axis at the end.\n",
            "    \n",
            "        .. versionadded:: 1.16.0\n",
            "    \n",
            "    Returns\n",
            "    -------\n",
            "    samples : ndarray\n",
            "        There are `num` equally spaced samples in the closed interval\n",
            "        ``[start, stop]`` or the half-open interval ``[start, stop)``\n",
            "        (depending on whether `endpoint` is True or False).\n",
            "    step : float, optional\n",
            "        Only returned if `retstep` is True\n",
            "    \n",
            "        Size of spacing between samples.\n",
            "    \n",
            "    \n",
            "    See Also\n",
            "    --------\n",
            "    arange : Similar to `linspace`, but uses a step size (instead of the\n",
            "             number of samples).\n",
            "    geomspace : Similar to `linspace`, but with numbers spaced evenly on a log\n",
            "                scale (a geometric progression).\n",
            "    logspace : Similar to `geomspace`, but with the end points specified as\n",
            "               logarithms.\n",
            "    \n",
            "    Examples\n",
            "    --------\n",
            "    >>> np.linspace(2.0, 3.0, num=5)\n",
            "    array([2.  , 2.25, 2.5 , 2.75, 3.  ])\n",
            "    >>> np.linspace(2.0, 3.0, num=5, endpoint=False)\n",
            "    array([2. ,  2.2,  2.4,  2.6,  2.8])\n",
            "    >>> np.linspace(2.0, 3.0, num=5, retstep=True)\n",
            "    (array([2.  ,  2.25,  2.5 ,  2.75,  3.  ]), 0.25)\n",
            "    \n",
            "    Graphical illustration:\n",
            "    \n",
            "    >>> import matplotlib.pyplot as plt\n",
            "    >>> N = 8\n",
            "    >>> y = np.zeros(N)\n",
            "    >>> x1 = np.linspace(0, 10, N, endpoint=True)\n",
            "    >>> x2 = np.linspace(0, 10, N, endpoint=False)\n",
            "    >>> plt.plot(x1, y, 'o')\n",
            "    [<matplotlib.lines.Line2D object at 0x...>]\n",
            "    >>> plt.plot(x2, y + 0.5, 'o')\n",
            "    [<matplotlib.lines.Line2D object at 0x...>]\n",
            "    >>> plt.ylim([-0.5, 1])\n",
            "    (-0.5, 1)\n",
            "    >>> plt.show()\n",
            "\n"
          ]
        }
      ]
    },
    {
      "cell_type": "code",
      "source": [
        "import numpy as mp\n",
        "x = np.random.randint(1,2,5)\n",
        "print(x)"
      ],
      "metadata": {
        "colab": {
          "base_uri": "https://localhost:8080/"
        },
        "id": "XPNrqRm6icZS",
        "outputId": "11c57577-d0df-456f-9fe1-da08cd896ba1"
      },
      "execution_count": null,
      "outputs": [
        {
          "output_type": "stream",
          "name": "stdout",
          "text": [
            "[1 1 1 1 1]\n"
          ]
        }
      ]
    }
  ]
}